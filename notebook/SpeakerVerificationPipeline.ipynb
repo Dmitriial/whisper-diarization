{
 "cells": [
  {
   "cell_type": "code",
   "execution_count": null,
   "id": "449f6a66",
   "metadata": {},
   "outputs": [],
   "source": [
    "from pathlib import Path\n",
    "import torch\n",
    "import nemo.collections.asr as nemo_asr\n",
    "from datetime import datetime\n",
    "from tqdm.auto import tqdm"
   ]
  },
  {
   "cell_type": "code",
   "execution_count": null,
   "id": "3efde486",
   "metadata": {},
   "outputs": [],
   "source": [
    "!pip install pysrt"
   ]
  },
  {
   "cell_type": "code",
   "execution_count": null,
   "id": "d419b7f4",
   "metadata": {},
   "outputs": [],
   "source": [
    "import pysrt\n",
    "from pydub import AudioSegment"
   ]
  },
  {
   "cell_type": "code",
   "execution_count": null,
   "id": "88eaa16b",
   "metadata": {},
   "outputs": [],
   "source": [
    "result_srt = Path(\"/opt/whisper-diarization/speech/001-output.srt\")\n",
    "origin_wav = Path(\"/opt/whisper-diarization/speech/001-output.wav\")\n",
    "\n",
    "speaker_response = Path(\"/opt/whisper-diarization/speech/001-output.json\")\n",
    "\n",
    "output_path = Path(\"/opt/whisper-diarization/speech/parts/\")\n",
    "output_path.mkdir(parents=True, exist_ok=True)\n",
    "\n",
    "assert result_srt.exists(), f\"Must be exists: {result_srt}\"\n",
    "assert origin_wav.exists(), f\"Must be exists: {origin_wav}\""
   ]
  },
  {
   "cell_type": "code",
   "execution_count": null,
   "id": "e3af9958",
   "metadata": {},
   "outputs": [],
   "source": [
    "if torch.cuda.is_available():\n",
    "  device = torch.device(\"cuda\")\n",
    "else:\n",
    "  device = torch.device(\"cpu\")"
   ]
  },
  {
   "cell_type": "code",
   "execution_count": null,
   "id": "8a80770a",
   "metadata": {},
   "outputs": [],
   "source": [
    "speaker_model = nemo_asr.models.EncDecSpeakerLabelModel.from_pretrained(model_name=\"titanet_large\")\n",
    "speaker_model"
   ]
  },
  {
   "cell_type": "code",
   "execution_count": null,
   "id": "c4df771c",
   "metadata": {},
   "outputs": [],
   "source": [
    "subs = pysrt.open(result_srt)"
   ]
  },
  {
   "cell_type": "code",
   "execution_count": null,
   "id": "a072bf6e",
   "metadata": {},
   "outputs": [],
   "source": [
    "def convert_to_ms(time_srt) -> int:\n",
    "    pure_time = time_srt.to_time()\n",
    "    time_ms = 0\n",
    "    time_ms += pure_time.hour * 60 * 60 * 1000\n",
    "    time_ms += pure_time.minute * 60 * 1000\n",
    "    time_ms += pure_time.second * 1000\n",
    "    time_ms += pure_time.microsecond // 1000\n",
    "    return time_ms\n",
    "\n",
    "\n",
    "assert origin_wav.exists(), f\"Original wav: {origin_wav}\"\n",
    "input_data = AudioSegment.from_wav(origin_wav)\n",
    "\n",
    "\n",
    "for index, sub in tqdm(enumerate(subs)):\n",
    "    print(sub.text)\n",
    "    print(sub.start)\n",
    "    \n",
    "    start_time = convert_to_ms(sub.start)\n",
    "    print(f\"start time: {start_time}\")\n",
    "    print(f\"start time: {sub.start}\")\n",
    "\n",
    "    end_time = convert_to_ms(sub.end)\n",
    "    print(f\"end time: {end_time}\")    \n",
    "    print(f\"end time: {sub.end}\")\n",
    "\n",
    "\n",
    "    split = input_data[start_time:end_time]\n",
    "    split.export(Path(output_path, f'{index}.wav'), format ='wav')    "
   ]
  },
  {
   "cell_type": "code",
   "execution_count": null,
   "id": "5fe7449f",
   "metadata": {},
   "outputs": [],
   "source": []
  },
  {
   "cell_type": "code",
   "execution_count": null,
   "id": "630d07b4",
   "metadata": {},
   "outputs": [],
   "source": [
    "def get_speaker_id(text: str) -> int:\n",
    "    parts = text.split(\":\")\n",
    "    speaker_part = parts[0]\n",
    "    speaker_parts = speaker_part.split(\" \")\n",
    "    return int(speaker_parts[1])\n",
    "\n",
    "\n",
    "meta_dict = {}\n",
    "for index, sub in tqdm(enumerate(subs)):\n",
    "    speaker_id = get_speaker_id(sub.text)\n",
    "    meta_dict.update(\n",
    "        {\n",
    "            index: {\n",
    "               \"text\": sub.text,\n",
    "                \"start\": sub.start.to_time().isoformat(),\n",
    "                \"stop\": sub.end.to_time().isoformat(),\n",
    "                \"speaker_id\": speaker_id,\n",
    "                \"file_path\": str(Path(output_path, f'{index}.wav').absolute()),\n",
    "                \"main_speaker\": False\n",
    "            }\n",
    "        }\n",
    "    )"
   ]
  },
  {
   "cell_type": "code",
   "execution_count": null,
   "id": "454488c3",
   "metadata": {},
   "outputs": [],
   "source": [
    "# meta_dict"
   ]
  },
  {
   "cell_type": "code",
   "execution_count": null,
   "id": "411c4923",
   "metadata": {},
   "outputs": [],
   "source": [
    "import IPython\n",
    "# import matplotlib.pyplot as plt\n",
    "# import numpy as np\n",
    "# import librosa\n",
    "\n",
    "# sr = 16000\n",
    "# signal, sr = librosa.load(an4_audio,sr=sr)\n",
    "\n",
    "IPython.display.Audio(Path(output_path, f'996.wav'))"
   ]
  },
  {
   "cell_type": "code",
   "execution_count": null,
   "id": "bd52bfff",
   "metadata": {},
   "outputs": [],
   "source": [
    "main_speaker_key = 12\n",
    "main_speaker = meta_dict[main_speaker_key]\n",
    "main_speaker"
   ]
  },
  {
   "cell_type": "code",
   "execution_count": null,
   "id": "455220b7",
   "metadata": {},
   "outputs": [],
   "source": [
    "# speaker_model.verify_speakers?"
   ]
  },
  {
   "cell_type": "code",
   "execution_count": null,
   "id": "0000ffcc",
   "metadata": {},
   "outputs": [],
   "source": [
    "# decision = speaker_model.verify_speakers(main_speaker[\"file_path\"], meta_dict[0][\"file_path\"])\n",
    "# print(decision)"
   ]
  },
  {
   "cell_type": "code",
   "execution_count": null,
   "id": "e1cb677e",
   "metadata": {},
   "outputs": [],
   "source": [
    "# speaker_model.verify_speakers?"
   ]
  },
  {
   "cell_type": "code",
   "execution_count": null,
   "id": "dab9ada1",
   "metadata": {},
   "outputs": [],
   "source": [
    "for index, sub in tqdm(enumerate(subs)):\n",
    "    if index == main_speaker_key:\n",
    "        meta_dict[index][\"main_speaker\"] = True\n",
    "        continue\n",
    "    \n",
    "    decision = speaker_model.verify_speakers(main_speaker[\"file_path\"], meta_dict[index][\"file_path\"], threshold=0.65)\n",
    "    meta_dict[index][\"main_speaker\"] = decision"
   ]
  },
  {
   "cell_type": "code",
   "execution_count": null,
   "id": "d7181b44",
   "metadata": {},
   "outputs": [],
   "source": [
    "# meta_dict"
   ]
  },
  {
   "cell_type": "code",
   "execution_count": null,
   "id": "69c07af9",
   "metadata": {},
   "outputs": [],
   "source": [
    "import json\n",
    "\n",
    "json.dump(\n",
    "    meta_dict,\n",
    "    speaker_response.open(\"w\")\n",
    ")"
   ]
  },
  {
   "cell_type": "code",
   "execution_count": null,
   "id": "31ab6ce2",
   "metadata": {},
   "outputs": [],
   "source": [
    "meta_dict[966]"
   ]
  },
  {
   "cell_type": "code",
   "execution_count": null,
   "id": "c358f043",
   "metadata": {},
   "outputs": [],
   "source": [
    "max(meta_dict.keys())"
   ]
  }
 ],
 "metadata": {
  "kernelspec": {
   "display_name": "runtime",
   "language": "python",
   "name": "cy1-wb-002"
  },
  "language_info": {
   "codemirror_mode": {
    "name": "ipython",
    "version": 3
   },
   "file_extension": ".py",
   "mimetype": "text/x-python",
   "name": "python",
   "nbconvert_exporter": "python",
   "pygments_lexer": "ipython3",
   "version": "3.10.12"
  }
 },
 "nbformat": 4,
 "nbformat_minor": 5
}
